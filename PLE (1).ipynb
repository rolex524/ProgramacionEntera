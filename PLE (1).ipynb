{
  "nbformat": 4,
  "nbformat_minor": 0,
  "metadata": {
    "colab": {
      "name": "PLE.ipynb",
      "provenance": [],
      "collapsed_sections": []
    },
    "kernelspec": {
      "name": "python3",
      "display_name": "Python 3"
    }
  },
  "cells": [
    {
      "cell_type": "code",
      "metadata": {
        "id": "Z-cvkJD1jf1Q",
        "colab_type": "code",
        "outputId": "8edab4ef-6505-4626-83ed-b1f1136d9f86",
        "colab": {
          "base_uri": "https://localhost:8080/",
          "height": 136
        }
      },
      "source": [
        "#by. Rolly Vasquez\n",
        "!pip install pulp"
      ],
      "execution_count": 0,
      "outputs": [
        {
          "output_type": "stream",
          "text": [
            "Collecting pulp\n",
            "\u001b[?25l  Downloading https://files.pythonhosted.org/packages/fb/34/ff5915ff6bae91cfb7c4cc22c3c369a6aea0b2127045dd5f308a91c260ac/PuLP-2.0-py3-none-any.whl (39.2MB)\n",
            "\u001b[K     |████████████████████████████████| 39.2MB 59kB/s \n",
            "\u001b[?25hRequirement already satisfied: pyparsing>=2.0.1 in /usr/local/lib/python3.6/dist-packages (from pulp) (2.4.5)\n",
            "Installing collected packages: pulp\n",
            "Successfully installed pulp-2.0\n"
          ],
          "name": "stdout"
        }
      ]
    },
    {
      "cell_type": "code",
      "metadata": {
        "id": "M2Gf_IjAkFfi",
        "colab_type": "code",
        "colab": {}
      },
      "source": [
        "import pulp as pl # importa el módulo para programación lineal\n",
        "import collections as cl\n",
        "# Código basado en https://www.toptal.com/algorithms/programacion-de-enteros-mixtos-una-guia-para-la-toma-de-decisiones-computacionales"
      ],
      "execution_count": 0,
      "outputs": []
    },
    {
      "cell_type": "code",
      "metadata": {
        "id": "Gr1OPWz0kLPo",
        "colab_type": "code",
        "colab": {}
      },
      "source": [
        "# El objetivo es asignar a 9 trabajadores a 5 turnos de acuerdo a su disponibilidad y costo\n",
        "demandapersonal= [1, 4, 3, 5, 2] # 5 turnos en los cuales se necesitan 1 trabajador, 4 trabajadores, y así sucesivamente\n",
        "trabajadores = { # turnoa para los cuales están disponibles los trabajadores y sus respectivos costos\n",
        "    \"Melissa\": {\"disponibilidad\": [0, 1, 4],\"costo\": 20}, # Melissa está disponible para los turnos 0, 1 y 4, y cobra 20\n",
        "    \"Brandon\": {\"disponibilidad\": [1, 2, 3, 4],\"costo\": 15},\n",
        "    \"Carlos\": {\"disponibilidad\": [2, 3],\"costo\": 35},\n",
        "    \"Dennys\": {\"disponibilidad\": [3, 4],\"costo\": 35},\n",
        "    \"Tony\": {\"disponibilidad\": [1, 3, 4],\"costo\": 10},\n",
        "    \"Juan\": {\"disponibilidad\": [0, 2, 4],\"costo\": 25},\n",
        "    \"Tabatha\": {\"disponibilidad\": [1, 3, 4],\"costo\": 30},\n",
        "    \"Jaime\": {\"disponibilidad\": [1, 2, 4],\"costo\": 20},\n",
        "    \"Ariel\": {\"disponibilidad\": [0, 1, 3],\"costo\": 20}\n",
        "}"
      ],
      "execution_count": 0,
      "outputs": []
    },
    {
      "cell_type": "code",
      "metadata": {
        "id": "t8Odg9y4ku7l",
        "colab_type": "code",
        "colab": {}
      },
      "source": [
        "# algunos modelos de variable\n",
        "costo = []\n",
        "vars_turno = cl.defaultdict(list)\n",
        "for trabajador,info in trabajadores.items():\n",
        "    for turno in info['disponibilidad']:\n",
        "        trab_var = pl.LpVariable(\"%s_%s\" %(trabajador, turno), 0, 1, pl.LpInteger) # declara una variable dicotómica\n",
        "        vars_turno[turno].append(trab_var) # adiciona a la lista todas las variables una por una\n",
        "        costo.append(trab_var*info['costo']) # multiplica cada variable por el costo correspondiente y enlista"
      ],
      "execution_count": 0,
      "outputs": []
    },
    {
      "cell_type": "code",
      "metadata": {
        "id": "vGMftybYkQu-",
        "colab_type": "code",
        "colab": {}
      },
      "source": [
        "# define el modelo: queremos minimizar el costo\n",
        "probl = pl.LpProblem(\"Turneo\", pl.LpMinimize)\n",
        "# establece el objetivo para que sea la suma del costo\n",
        "probl += sum(costo)\n",
        "# establece los requerimientos de cambio (restricciones)\n",
        "for turno,demanda in enumerate(demandapersonal):\n",
        "    probl += sum(vars_turno[turno]) >= demanda"
      ],
      "execution_count": 0,
      "outputs": []
    },
    {
      "cell_type": "code",
      "metadata": {
        "id": "pdWUJ71rk9eW",
        "colab_type": "code",
        "outputId": "c013205d-f806-4a84-9af4-bba678d704b8",
        "colab": {
          "base_uri": "https://localhost:8080/",
          "height": 116
        }
      },
      "source": [
        "estado = probl.solve() # resuelve el problema de optimización\n",
        "print(\"Resultado:\", pl.LpStatus[estado])\n",
        "resultados = []\n",
        "for turno,varbs in vars_turno.items():\n",
        "    resultados.append({\"turno\": turno,\n",
        "        \"trabajadores\": [var.name for var in varbs if var.varValue == 1],\n",
        "    }) # enlista los resultados\n",
        "for resultado in sorted(resultados, key=lambda x: x['turno']): # muestra los resultados\n",
        "    print(\"Turno\", resultado['turno'], '. Trabajadores:', ', '.join(resultado['trabajadores']))"
      ],
      "execution_count": 0,
      "outputs": [
        {
          "output_type": "stream",
          "text": [
            "Resultado: Optimal\n",
            "Turno 0 . Trabajadores: Ariel_0\n",
            "Turno 1 . Trabajadores: Melissa_1, Brandon_1, Tony_1, Ariel_1\n",
            "Turno 2 . Trabajadores: Brandon_2, Juan_2, Jaime_2\n",
            "Turno 3 . Trabajadores: Brandon_3, Dennys_3, Tony_3, Tabatha_3, Ariel_3\n",
            "Turno 4 . Trabajadores: Brandon_4, Tony_4\n"
          ],
          "name": "stdout"
        }
      ]
    }
  ]
}